{
  "nbformat": 4,
  "nbformat_minor": 0,
  "metadata": {
    "colab": {
      "provenance": [],
      "mount_file_id": "1VKi31_GtTF0bFiJTJbV1yrRPR3wQCkmo",
      "authorship_tag": "ABX9TyM+dfLfdRwv8ksSy8V2H/Pb",
      "include_colab_link": true
    },
    "kernelspec": {
      "name": "python3",
      "display_name": "Python 3"
    },
    "language_info": {
      "name": "python"
    }
  },
  "cells": [
    {
      "cell_type": "markdown",
      "metadata": {
        "id": "view-in-github",
        "colab_type": "text"
      },
      "source": [
        "<a href=\"https://colab.research.google.com/github/sally-20/URL-Phishing-Detection/blob/main/URL_Phishing_Detection_using_Random_Forest_Classifier.ipynb\" target=\"_parent\"><img src=\"https://colab.research.google.com/assets/colab-badge.svg\" alt=\"Open In Colab\"/></a>"
      ]
    },
    {
      "cell_type": "markdown",
      "source": [
        "#**Phishing Website Detection with Random Forest**\n",
        "\n",
        "This Colab notebook demonstrates how to build a phishing website detection model using the Random Forest algorithm. We will preprocess the data, train the model, and use it to predict whether a given website is phishing or not.\n",
        "\n",
        "## **Data**\n",
        "The dataset used in this notebook contains URLs along with their corresponding labels (phishing or legitimate). The dataset has been loaded and preprocessed for training.\n",
        "\n",
        "## **Preprocessing**\n",
        "We will first preprocess the URLs to extract their domain information using regular expressions. The extracted domains will be used as input features for the model. We will also perform one-hot encoding for the categorical input features.\n",
        "\n",
        "Let's take a look at the first few rows of the dataset:"
      ],
      "metadata": {
        "id": "-q6Z1QQIvC34"
      }
    },
    {
      "cell_type": "code",
      "source": [
        "import pandas as pd"
      ],
      "metadata": {
        "id": "1LzLLDJUtgkP"
      },
      "execution_count": 1,
      "outputs": []
    },
    {
      "cell_type": "code",
      "source": [
        "# Load the dataset\n",
        "data = pd.read_csv('/content/drive/MyDrive/phishing_site_urls.csv')\n",
        "print(data.head())"
      ],
      "metadata": {
        "colab": {
          "base_uri": "https://localhost:8080/"
        },
        "id": "JU1N4c3Atmfu",
        "outputId": "6d7808fd-d40b-42a6-c75d-ecce03a30fe2"
      },
      "execution_count": 2,
      "outputs": [
        {
          "output_type": "stream",
          "name": "stdout",
          "text": [
            "                                                 URL Label\n",
            "0  nobell.it/70ffb52d079109dca5664cce6f317373782/...   bad\n",
            "1  www.dghjdgf.com/paypal.co.uk/cycgi-bin/webscrc...   bad\n",
            "2  serviciosbys.com/paypal.cgi.bin.get-into.herf....   bad\n",
            "3  mail.printakid.com/www.online.americanexpress....   bad\n",
            "4  thewhiskeydregs.com/wp-content/themes/widescre...   bad\n"
          ]
        }
      ]
    },
    {
      "cell_type": "markdown",
      "source": [
        "## **Training**\n",
        "We will create and train a Random Forest classifier on the preprocessed dataset. The model will be evaluated for accuracy on the training set."
      ],
      "metadata": {
        "id": "ctuXq_Ibtp2e"
      }
    },
    {
      "cell_type": "code",
      "source": [
        "import re\n",
        "import numpy as np\n",
        "from numpy import loadtxt\n",
        "from sklearn.ensemble import RandomForestClassifier\n",
        "from sklearn.metrics import accuracy_score\n",
        "from sklearn.preprocessing import OneHotEncoder\n",
        "import warnings"
      ],
      "metadata": {
        "id": "0aoxXUAst12o"
      },
      "execution_count": 3,
      "outputs": []
    },
    {
      "cell_type": "code",
      "source": [
        "# Suppress FutureWarning for OneHotEncoder sparse parameter\n",
        "warnings.simplefilter(action='ignore', category=FutureWarning)"
      ],
      "metadata": {
        "id": "-N7IAb85uZ_p"
      },
      "execution_count": 4,
      "outputs": []
    },
    {
      "cell_type": "code",
      "source": [
        "# Preprocess the input URL\n",
        "def preprocess_url(url):\n",
        "    # Extract domain from the URL\n",
        "    match = re.search('https?://([^/?]+)', url)\n",
        "    if match:\n",
        "        domain = match.group(1)\n",
        "        return domain\n",
        "    else:\n",
        "        return None"
      ],
      "metadata": {
        "id": "38_r4z11uXHo"
      },
      "execution_count": 5,
      "outputs": []
    },
    {
      "cell_type": "code",
      "source": [
        "# Extract the 'Label' column as the output (y) variable\n",
        "y = data['Label']\n",
        "# Extract the 'URL' column as the input (X) variable\n",
        "X = data['URL']"
      ],
      "metadata": {
        "id": "cvGk8gH_uUQC"
      },
      "execution_count": 6,
      "outputs": []
    },
    {
      "cell_type": "code",
      "source": [
        "# Initialize a new list to store the preprocessed URLs\n",
        "preprocessed_X = []"
      ],
      "metadata": {
        "id": "xXlihm0MuNQU"
      },
      "execution_count": 7,
      "outputs": []
    },
    {
      "cell_type": "code",
      "source": [
        "# Preprocess the dataset\n",
        "for url in X:\n",
        "    if isinstance(url, str):\n",
        "        preprocessed_url = preprocess_url(url)\n",
        "        preprocessed_X.append(preprocessed_url)\n",
        "    else:\n",
        "        preprocessed_X.append(None)"
      ],
      "metadata": {
        "id": "6cB4DzqWCeQY"
      },
      "execution_count": 8,
      "outputs": []
    },
    {
      "cell_type": "code",
      "source": [
        "# Convert the list to a NumPy array for further processing\n",
        "preprocessed_X = np.array(preprocessed_X).reshape(-1, 1)"
      ],
      "metadata": {
        "id": "YtfSCKUcCbCX"
      },
      "execution_count": 9,
      "outputs": []
    },
    {
      "cell_type": "code",
      "source": [
        "# Perform one-hot encoding for categorical input\n",
        "encoder = OneHotEncoder(sparse=False, handle_unknown='ignore')\n",
        "X_encoded = encoder.fit_transform(preprocessed_X)"
      ],
      "metadata": {
        "id": "6BJ5MQs4uI_U"
      },
      "execution_count": 10,
      "outputs": []
    },
    {
      "cell_type": "code",
      "source": [
        "# Create and train the Random Forest classifier\n",
        "model = RandomForestClassifier()\n",
        "model.fit(X_encoded, y)"
      ],
      "metadata": {
        "colab": {
          "base_uri": "https://localhost:8080/",
          "height": 74
        },
        "id": "KuvDZjCeuGgO",
        "outputId": "9f60515e-9e60-481e-ccc4-264de01ba68b"
      },
      "execution_count": 11,
      "outputs": [
        {
          "output_type": "execute_result",
          "data": {
            "text/plain": [
              "RandomForestClassifier()"
            ],
            "text/html": [
              "<style>#sk-container-id-1 {color: black;background-color: white;}#sk-container-id-1 pre{padding: 0;}#sk-container-id-1 div.sk-toggleable {background-color: white;}#sk-container-id-1 label.sk-toggleable__label {cursor: pointer;display: block;width: 100%;margin-bottom: 0;padding: 0.3em;box-sizing: border-box;text-align: center;}#sk-container-id-1 label.sk-toggleable__label-arrow:before {content: \"▸\";float: left;margin-right: 0.25em;color: #696969;}#sk-container-id-1 label.sk-toggleable__label-arrow:hover:before {color: black;}#sk-container-id-1 div.sk-estimator:hover label.sk-toggleable__label-arrow:before {color: black;}#sk-container-id-1 div.sk-toggleable__content {max-height: 0;max-width: 0;overflow: hidden;text-align: left;background-color: #f0f8ff;}#sk-container-id-1 div.sk-toggleable__content pre {margin: 0.2em;color: black;border-radius: 0.25em;background-color: #f0f8ff;}#sk-container-id-1 input.sk-toggleable__control:checked~div.sk-toggleable__content {max-height: 200px;max-width: 100%;overflow: auto;}#sk-container-id-1 input.sk-toggleable__control:checked~label.sk-toggleable__label-arrow:before {content: \"▾\";}#sk-container-id-1 div.sk-estimator input.sk-toggleable__control:checked~label.sk-toggleable__label {background-color: #d4ebff;}#sk-container-id-1 div.sk-label input.sk-toggleable__control:checked~label.sk-toggleable__label {background-color: #d4ebff;}#sk-container-id-1 input.sk-hidden--visually {border: 0;clip: rect(1px 1px 1px 1px);clip: rect(1px, 1px, 1px, 1px);height: 1px;margin: -1px;overflow: hidden;padding: 0;position: absolute;width: 1px;}#sk-container-id-1 div.sk-estimator {font-family: monospace;background-color: #f0f8ff;border: 1px dotted black;border-radius: 0.25em;box-sizing: border-box;margin-bottom: 0.5em;}#sk-container-id-1 div.sk-estimator:hover {background-color: #d4ebff;}#sk-container-id-1 div.sk-parallel-item::after {content: \"\";width: 100%;border-bottom: 1px solid gray;flex-grow: 1;}#sk-container-id-1 div.sk-label:hover label.sk-toggleable__label {background-color: #d4ebff;}#sk-container-id-1 div.sk-serial::before {content: \"\";position: absolute;border-left: 1px solid gray;box-sizing: border-box;top: 0;bottom: 0;left: 50%;z-index: 0;}#sk-container-id-1 div.sk-serial {display: flex;flex-direction: column;align-items: center;background-color: white;padding-right: 0.2em;padding-left: 0.2em;position: relative;}#sk-container-id-1 div.sk-item {position: relative;z-index: 1;}#sk-container-id-1 div.sk-parallel {display: flex;align-items: stretch;justify-content: center;background-color: white;position: relative;}#sk-container-id-1 div.sk-item::before, #sk-container-id-1 div.sk-parallel-item::before {content: \"\";position: absolute;border-left: 1px solid gray;box-sizing: border-box;top: 0;bottom: 0;left: 50%;z-index: -1;}#sk-container-id-1 div.sk-parallel-item {display: flex;flex-direction: column;z-index: 1;position: relative;background-color: white;}#sk-container-id-1 div.sk-parallel-item:first-child::after {align-self: flex-end;width: 50%;}#sk-container-id-1 div.sk-parallel-item:last-child::after {align-self: flex-start;width: 50%;}#sk-container-id-1 div.sk-parallel-item:only-child::after {width: 0;}#sk-container-id-1 div.sk-dashed-wrapped {border: 1px dashed gray;margin: 0 0.4em 0.5em 0.4em;box-sizing: border-box;padding-bottom: 0.4em;background-color: white;}#sk-container-id-1 div.sk-label label {font-family: monospace;font-weight: bold;display: inline-block;line-height: 1.2em;}#sk-container-id-1 div.sk-label-container {text-align: center;}#sk-container-id-1 div.sk-container {/* jupyter's `normalize.less` sets `[hidden] { display: none; }` but bootstrap.min.css set `[hidden] { display: none !important; }` so we also need the `!important` here to be able to override the default hidden behavior on the sphinx rendered scikit-learn.org. See: https://github.com/scikit-learn/scikit-learn/issues/21755 */display: inline-block !important;position: relative;}#sk-container-id-1 div.sk-text-repr-fallback {display: none;}</style><div id=\"sk-container-id-1\" class=\"sk-top-container\"><div class=\"sk-text-repr-fallback\"><pre>RandomForestClassifier()</pre><b>In a Jupyter environment, please rerun this cell to show the HTML representation or trust the notebook. <br />On GitHub, the HTML representation is unable to render, please try loading this page with nbviewer.org.</b></div><div class=\"sk-container\" hidden><div class=\"sk-item\"><div class=\"sk-estimator sk-toggleable\"><input class=\"sk-toggleable__control sk-hidden--visually\" id=\"sk-estimator-id-1\" type=\"checkbox\" checked><label for=\"sk-estimator-id-1\" class=\"sk-toggleable__label sk-toggleable__label-arrow\">RandomForestClassifier</label><div class=\"sk-toggleable__content\"><pre>RandomForestClassifier()</pre></div></div></div></div></div>"
            ]
          },
          "metadata": {},
          "execution_count": 11
        }
      ]
    },
    {
      "cell_type": "code",
      "source": [
        "# Calculate accuracy on the training set\n",
        "predictions = model.predict(X_encoded)\n",
        "accuracy = accuracy_score(y, predictions)\n",
        "print(\"Model Accuracy:\", accuracy)"
      ],
      "metadata": {
        "colab": {
          "base_uri": "https://localhost:8080/"
        },
        "id": "bGdDWjM4t-dt",
        "outputId": "9199d6e1-ebe6-434b-be95-6edba2072e02"
      },
      "execution_count": 12,
      "outputs": [
        {
          "output_type": "stream",
          "name": "stdout",
          "text": [
            "Model Accuracy: 0.717149119134389\n"
          ]
        }
      ]
    },
    {
      "cell_type": "markdown",
      "source": [
        "## **Prediction**\n",
        "Once the model is trained, we can use it to predict whether a given URL is a phishing website or not."
      ],
      "metadata": {
        "id": "P-7LK87iucme"
      }
    },
    {
      "cell_type": "code",
      "source": [
        "# Function to get user input for prediction\n",
        "def get_user_input():\n",
        "    user_input = input(\"Enter the URL to check if it's phishing or legitimate: \")\n",
        "    return user_input"
      ],
      "metadata": {
        "id": "4lHhsUdFujte"
      },
      "execution_count": 13,
      "outputs": []
    },
    {
      "cell_type": "code",
      "source": [
        "# Get user input\n",
        "website_input = get_user_input()"
      ],
      "metadata": {
        "colab": {
          "base_uri": "https://localhost:8080/"
        },
        "id": "FXlCRBAXu90C",
        "outputId": "2463c6ab-a95a-4f48-83af-ba7ae6931a70"
      },
      "execution_count": 14,
      "outputs": [
        {
          "name": "stdout",
          "output_type": "stream",
          "text": [
            "Enter the URL to check if it's phishing or legitimate: https://colab.research.google.com/drive/1VKi31_GtTF0bFiJTJbV1yrRPR3wQCkmo#scrollTo=KuvDZjCeuGgO\n"
          ]
        }
      ]
    },
    {
      "cell_type": "code",
      "source": [
        "# Preprocess the user input\n",
        "preprocessed_website = preprocess_url(website_input)\n",
        "preprocessed_website_encoded = encoder.transform([[preprocessed_website]])\n",
        "prediction = model.predict(preprocessed_website_encoded)"
      ],
      "metadata": {
        "id": "uH6J0xnMu6_6"
      },
      "execution_count": 15,
      "outputs": []
    },
    {
      "cell_type": "code",
      "source": [
        "# Print the prediction result\n",
        "if prediction[0] == 1:\n",
        "    print(\"The website is phishing.\")\n",
        "else:\n",
        "    print(\"The website is legitimate.\")"
      ],
      "metadata": {
        "colab": {
          "base_uri": "https://localhost:8080/"
        },
        "id": "D8d7ploou1dZ",
        "outputId": "12d73d1b-6d18-4714-8bfb-700dc24c4c82"
      },
      "execution_count": 16,
      "outputs": [
        {
          "output_type": "stream",
          "name": "stdout",
          "text": [
            "The website is legitimate.\n"
          ]
        }
      ]
    }
  ]
}